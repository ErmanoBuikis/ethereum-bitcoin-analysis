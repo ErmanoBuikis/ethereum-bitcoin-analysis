{
 "cells": [
  {
   "cell_type": "code",
   "execution_count": 389,
   "metadata": {},
   "outputs": [],
   "source": [
    "import pandas as pd\n",
    "import numpy as np\n",
    "import sys\n",
    "import seaborn as sns\n",
    "import matplotlib.pyplot as plt\n",
    "from datetime import datetime\n",
    "%matplotlib inline"
   ]
  },
  {
   "cell_type": "markdown",
   "metadata": {},
   "source": [
    "Link Docs:\n",
    "    \n",
    "https://towardsdatascience.com/how-to-generate-prediction-intervals-with-scikit-learn-and-python-ab3899f992ed"
   ]
  },
  {
   "cell_type": "code",
   "execution_count": 79,
   "metadata": {},
   "outputs": [
    {
     "data": {
      "text/plain": [
       "'/home/moebius/Documents/to do/ETH_BTC_analysis'"
      ]
     },
     "execution_count": 79,
     "metadata": {},
     "output_type": "execute_result"
    }
   ],
   "source": [
    "path=sys.path[0]\n",
    "path"
   ]
  },
  {
   "cell_type": "code",
   "execution_count": 80,
   "metadata": {},
   "outputs": [],
   "source": [
    "df = pd.read_csv(\"ETH_BTC.csv\")"
   ]
  },
  {
   "cell_type": "code",
   "execution_count": 81,
   "metadata": {},
   "outputs": [
    {
     "data": {
      "text/html": [
       "<div>\n",
       "<style scoped>\n",
       "    .dataframe tbody tr th:only-of-type {\n",
       "        vertical-align: middle;\n",
       "    }\n",
       "\n",
       "    .dataframe tbody tr th {\n",
       "        vertical-align: top;\n",
       "    }\n",
       "\n",
       "    .dataframe thead th {\n",
       "        text-align: right;\n",
       "    }\n",
       "</style>\n",
       "<table border=\"1\" class=\"dataframe\">\n",
       "  <thead>\n",
       "    <tr style=\"text-align: right;\">\n",
       "      <th></th>\n",
       "      <th>date</th>\n",
       "      <th>high</th>\n",
       "      <th>low</th>\n",
       "      <th>open</th>\n",
       "      <th>close</th>\n",
       "      <th>volume</th>\n",
       "      <th>quoteVolume</th>\n",
       "      <th>weightedAverage</th>\n",
       "    </tr>\n",
       "  </thead>\n",
       "  <tbody>\n",
       "    <tr>\n",
       "      <th>0</th>\n",
       "      <td>1500000000</td>\n",
       "      <td>0.086593</td>\n",
       "      <td>0.086242</td>\n",
       "      <td>0.086496</td>\n",
       "      <td>0.086364</td>\n",
       "      <td>49.756855</td>\n",
       "      <td>575.645091</td>\n",
       "      <td>0.086437</td>\n",
       "    </tr>\n",
       "  </tbody>\n",
       "</table>\n",
       "</div>"
      ],
      "text/plain": [
       "         date      high       low      open     close     volume  quoteVolume  \\\n",
       "0  1500000000  0.086593  0.086242  0.086496  0.086364  49.756855   575.645091   \n",
       "\n",
       "   weightedAverage  \n",
       "0         0.086437  "
      ]
     },
     "execution_count": 81,
     "metadata": {},
     "output_type": "execute_result"
    }
   ],
   "source": [
    "df.head(1)"
   ]
  },
  {
   "cell_type": "code",
   "execution_count": 82,
   "metadata": {},
   "outputs": [],
   "source": [
    "sns.set(font_scale=.5, style=\"whitegrid\")"
   ]
  },
  {
   "cell_type": "markdown",
   "metadata": {},
   "source": [
    "### Date formatting"
   ]
  },
  {
   "cell_type": "code",
   "execution_count": 107,
   "metadata": {},
   "outputs": [
    {
     "data": {
      "text/plain": [
       "0    1500000000\n",
       "1    1500000300\n",
       "2    1500000600\n",
       "3    1500000900\n",
       "4    1500001200\n",
       "Name: date, dtype: int64"
      ]
     },
     "execution_count": 107,
     "metadata": {},
     "output_type": "execute_result"
    }
   ],
   "source": [
    "df['date'].head()"
   ]
  },
  {
   "cell_type": "code",
   "execution_count": 356,
   "metadata": {},
   "outputs": [],
   "source": [
    "df2 = df.copy()"
   ]
  },
  {
   "cell_type": "code",
   "execution_count": 358,
   "metadata": {},
   "outputs": [
    {
     "data": {
      "text/plain": [
       "0   2017-07-14 02:40:00\n",
       "1   2017-07-14 02:45:00\n",
       "2   2017-07-14 02:50:00\n",
       "3   2017-07-14 02:55:00\n",
       "4   2017-07-14 03:00:00\n",
       "Name: date, dtype: datetime64[ns]"
      ]
     },
     "execution_count": 358,
     "metadata": {},
     "output_type": "execute_result"
    }
   ],
   "source": [
    "dates = pd.Series(df['date'])\n",
    "df2['date'] = pd.to_datetime(dates,unit='s')\n",
    "df2['date'].head()"
   ]
  },
  {
   "cell_type": "markdown",
   "metadata": {},
   "source": [
    "### Exploratory analysis"
   ]
  },
  {
   "cell_type": "code",
   "execution_count": 174,
   "metadata": {},
   "outputs": [
    {
     "data": {
      "text/plain": [
       "['date',\n",
       " 'high',\n",
       " 'low',\n",
       " 'open',\n",
       " 'close',\n",
       " 'volume',\n",
       " 'quoteVolume',\n",
       " 'weightedAverage']"
      ]
     },
     "execution_count": 174,
     "metadata": {},
     "output_type": "execute_result"
    }
   ],
   "source": [
    "cols =[col for col in df2.columns]\n",
    "cols"
   ]
  },
  {
   "cell_type": "code",
   "execution_count": 135,
   "metadata": {},
   "outputs": [
    {
     "data": {
      "text/html": [
       "<div>\n",
       "<style scoped>\n",
       "    .dataframe tbody tr th:only-of-type {\n",
       "        vertical-align: middle;\n",
       "    }\n",
       "\n",
       "    .dataframe tbody tr th {\n",
       "        vertical-align: top;\n",
       "    }\n",
       "\n",
       "    .dataframe thead th {\n",
       "        text-align: right;\n",
       "    }\n",
       "</style>\n",
       "<table border=\"1\" class=\"dataframe\">\n",
       "  <thead>\n",
       "    <tr style=\"text-align: right;\">\n",
       "      <th></th>\n",
       "      <th>high</th>\n",
       "      <th>low</th>\n",
       "      <th>open</th>\n",
       "      <th>close</th>\n",
       "      <th>volume</th>\n",
       "      <th>quoteVolume</th>\n",
       "      <th>weightedAverage</th>\n",
       "    </tr>\n",
       "  </thead>\n",
       "  <tbody>\n",
       "    <tr>\n",
       "      <th>count</th>\n",
       "      <td>7673.000000</td>\n",
       "      <td>7673.000000</td>\n",
       "      <td>7673.000000</td>\n",
       "      <td>7673.000000</td>\n",
       "      <td>7673.000000</td>\n",
       "      <td>7673.000000</td>\n",
       "      <td>7673.000000</td>\n",
       "    </tr>\n",
       "    <tr>\n",
       "      <th>mean</th>\n",
       "      <td>0.081263</td>\n",
       "      <td>0.080825</td>\n",
       "      <td>0.081049</td>\n",
       "      <td>0.081048</td>\n",
       "      <td>95.603058</td>\n",
       "      <td>1151.074874</td>\n",
       "      <td>0.081043</td>\n",
       "    </tr>\n",
       "    <tr>\n",
       "      <th>std</th>\n",
       "      <td>0.006316</td>\n",
       "      <td>0.006199</td>\n",
       "      <td>0.006256</td>\n",
       "      <td>0.006255</td>\n",
       "      <td>148.679217</td>\n",
       "      <td>1685.798481</td>\n",
       "      <td>0.006256</td>\n",
       "    </tr>\n",
       "    <tr>\n",
       "      <th>min</th>\n",
       "      <td>0.066500</td>\n",
       "      <td>0.066120</td>\n",
       "      <td>0.066340</td>\n",
       "      <td>0.066360</td>\n",
       "      <td>0.000000</td>\n",
       "      <td>0.000000</td>\n",
       "      <td>0.066389</td>\n",
       "    </tr>\n",
       "    <tr>\n",
       "      <th>25%</th>\n",
       "      <td>0.078591</td>\n",
       "      <td>0.078218</td>\n",
       "      <td>0.078400</td>\n",
       "      <td>0.078400</td>\n",
       "      <td>23.201172</td>\n",
       "      <td>291.656045</td>\n",
       "      <td>0.078401</td>\n",
       "    </tr>\n",
       "    <tr>\n",
       "      <th>50%</th>\n",
       "      <td>0.081139</td>\n",
       "      <td>0.080807</td>\n",
       "      <td>0.080980</td>\n",
       "      <td>0.080973</td>\n",
       "      <td>48.594397</td>\n",
       "      <td>609.208737</td>\n",
       "      <td>0.080976</td>\n",
       "    </tr>\n",
       "    <tr>\n",
       "      <th>75%</th>\n",
       "      <td>0.084000</td>\n",
       "      <td>0.083500</td>\n",
       "      <td>0.083829</td>\n",
       "      <td>0.083828</td>\n",
       "      <td>110.648419</td>\n",
       "      <td>1355.436415</td>\n",
       "      <td>0.083802</td>\n",
       "    </tr>\n",
       "    <tr>\n",
       "      <th>max</th>\n",
       "      <td>0.111500</td>\n",
       "      <td>0.105704</td>\n",
       "      <td>0.109314</td>\n",
       "      <td>0.109202</td>\n",
       "      <td>3490.944901</td>\n",
       "      <td>31770.501508</td>\n",
       "      <td>0.109880</td>\n",
       "    </tr>\n",
       "  </tbody>\n",
       "</table>\n",
       "</div>"
      ],
      "text/plain": [
       "              high          low         open        close       volume  \\\n",
       "count  7673.000000  7673.000000  7673.000000  7673.000000  7673.000000   \n",
       "mean      0.081263     0.080825     0.081049     0.081048    95.603058   \n",
       "std       0.006316     0.006199     0.006256     0.006255   148.679217   \n",
       "min       0.066500     0.066120     0.066340     0.066360     0.000000   \n",
       "25%       0.078591     0.078218     0.078400     0.078400    23.201172   \n",
       "50%       0.081139     0.080807     0.080980     0.080973    48.594397   \n",
       "75%       0.084000     0.083500     0.083829     0.083828   110.648419   \n",
       "max       0.111500     0.105704     0.109314     0.109202  3490.944901   \n",
       "\n",
       "        quoteVolume  weightedAverage  \n",
       "count   7673.000000      7673.000000  \n",
       "mean    1151.074874         0.081043  \n",
       "std     1685.798481         0.006256  \n",
       "min        0.000000         0.066389  \n",
       "25%      291.656045         0.078401  \n",
       "50%      609.208737         0.080976  \n",
       "75%     1355.436415         0.083802  \n",
       "max    31770.501508         0.109880  "
      ]
     },
     "execution_count": 135,
     "metadata": {},
     "output_type": "execute_result"
    }
   ],
   "source": [
    "df2.describe()"
   ]
  },
  {
   "cell_type": "code",
   "execution_count": 568,
   "metadata": {},
   "outputs": [
    {
     "data": {
      "text/plain": [
       "(array([17360., 17364., 17368., 17372., 17376., 17379., 17383., 17387.]),\n",
       " [Text(0, 0, ''),\n",
       "  Text(0, 0, ''),\n",
       "  Text(0, 0, ''),\n",
       "  Text(0, 0, ''),\n",
       "  Text(0, 0, ''),\n",
       "  Text(0, 0, ''),\n",
       "  Text(0, 0, ''),\n",
       "  Text(0, 0, '')])"
      ]
     },
     "execution_count": 568,
     "metadata": {},
     "output_type": "execute_result"
    },
    {
     "data": {
      "image/png": "[encoded data removed]",
      "text/plain": [
       "<Figure size 432x288 with 1 Axes>"
      ]
     },
     "metadata": {},
     "output_type": "display_data"
    }
   ],
   "source": [
    "plt.plot(df2[\"date\"],df2[\"high\"])\n",
    "sns.set(style=\"darkgrid\")\n",
    "plt.xticks(rotation=45)"
   ]
  },
  {
   "cell_type": "markdown",
   "metadata": {},
   "source": [
    "# LINEAR MODEL"
   ]
  },
  {
   "cell_type": "code",
   "execution_count": 635,
   "metadata": {},
   "outputs": [],
   "source": [
    "from sklearn.linear_model import LinearRegression"
   ]
  },
  {
   "cell_type": "code",
   "execution_count": 636,
   "metadata": {},
   "outputs": [],
   "source": [
    "reg = LinearRegression().fit(np.array(X_train).reshape(-1, 1), np.array(y_train).reshape(-1, 1))\n",
    "score_fit = reg.score(X, y)\n",
    "coefficent = reg.coef_\n",
    "intercept = reg.intercept_\n",
    "# Example : reg.predict(np.array([[3, 5]]))"
   ]
  },
  {
   "cell_type": "code",
   "execution_count": 638,
   "metadata": {},
   "outputs": [
    {
     "name": "stdout",
     "output_type": "stream",
     "text": [
      " y = m*X + q    m: coefficent 3e-05  q: intercept 0.0862139\n"
     ]
    }
   ],
   "source": [
    "print(\" y = m*X + q    m: coefficent\",round(float(coefficent),5),\" q: intercept\",round(float(intercept),7))"
   ]
  },
  {
   "cell_type": "code",
   "execution_count": 639,
   "metadata": {},
   "outputs": [
    {
     "data": {
      "text/plain": [
       "Index(['date', 'high', 'low', 'open', 'close', 'volume', 'quoteVolume',\n",
       "       'weightedAverage'],\n",
       "      dtype='object')"
      ]
     },
     "execution_count": 639,
     "metadata": {},
     "output_type": "execute_result"
    }
   ],
   "source": [
    "df.columns"
   ]
  },
  {
   "cell_type": "code",
   "execution_count": 640,
   "metadata": {},
   "outputs": [],
   "source": [
    "periods=[list(df2.values[i]) for i in range(len(df2['close'][:2]))]"
   ]
  },
  {
   "cell_type": "code",
   "execution_count": 641,
   "metadata": {},
   "outputs": [
    {
     "data": {
      "text/plain": [
       "RangeIndex(start=0, stop=7673, step=1)"
      ]
     },
     "execution_count": 641,
     "metadata": {},
     "output_type": "execute_result"
    }
   ],
   "source": [
    "df.index"
   ]
  },
  {
   "cell_type": "code",
   "execution_count": 643,
   "metadata": {},
   "outputs": [
    {
     "ename": "NameError",
     "evalue": "name 'model' is not defined",
     "output_type": "error",
     "traceback": [
      "\u001b[0;31m---------------------------------------------------------------------------\u001b[0m",
      "\u001b[0;31mNameError\u001b[0m                                 Traceback (most recent call last)",
      "\u001b[0;32m<ipython-input-643-d3dc977168f5>\u001b[0m in \u001b[0;36m<module>\u001b[0;34m\u001b[0m\n\u001b[0;32m----> 1\u001b[0;31m \u001b[0mmodel\u001b[0m\u001b[0;34m.\u001b[0m\u001b[0mfit\u001b[0m\u001b[0;34m(\u001b[0m\u001b[0mx\u001b[0m\u001b[0;34m,\u001b[0m \u001b[0my\u001b[0m\u001b[0;34m)\u001b[0m\u001b[0;34m\u001b[0m\u001b[0;34m\u001b[0m\u001b[0m\n\u001b[0m",
      "\u001b[0;31mNameError\u001b[0m: name 'model' is not defined"
     ]
    }
   ],
   "source": []
  },
  {
   "cell_type": "code",
   "execution_count": 653,
   "metadata": {},
   "outputs": [],
   "source": [
    "start_buffer = 250\n",
    "train_buffer = 200 # ticks for train \n",
    "period_analysis = 250\n",
    "open_trade = False\n",
    "\n",
    "#from sklearn.model_selection import train_test_split\n",
    "\n",
    "for i in range(len(df2.values[start_buffer:])):\n",
    "    X_train = np.array(df.index[i:i+period_analysis-train_buffer]).reshape(-1, 1)\n",
    "    y_train = np.array(df['close'][i:i+period_analysis-train_buffer]).reshape(-1, 1)\n",
    "    \n",
    "    X_test = np.array(df.index[i+train_buffer:i+period_analysis]).reshape(-1, 1)\n",
    "    y_test = np.array(df['close'][i+train_buffer:i+period_analysis]).reshape(-1, 1)\n",
    "\n",
    "    model = LinearRegression()\n",
    "    model.fit(X_train, y_train)\n",
    "    model = LinearRegression().fit(X_train, y_train)\n",
    "    r_sq = model.score(X_train, y_train)\n",
    "    \n",
    "    coefficent = reg.coef_\n",
    "    score_fit = reg.score(X_test, y_test)\n",
    "    \n",
    "    #X_train, X_test, y_train, y_test = train_test_split(X, y, test_size=0.33, random_state=42)\n",
    "\n",
    "    # take a slice of time at the time\n",
    "    #X_train = df2.index[]).reshape(-1, 1)\n",
    "    #y_train = np.array(df2.close[i:i+period_analysis-train_buffer])\n",
    "    \n",
    "    #\n",
    "    #reg = LinearRegression().fit(X_test,y_test)\n",
    "    \n",
    "   # X_test= np.array(df2.index[ i+train_buffer :i+period_analysis]).reshape(-1, 1)\n",
    "   # y_test= np.array(df2.close[ i+train_buffer :i+period_analysis]).reshape(-1, 1)\n",
    "    \n",
    "\n",
    "\n",
    "    \n",
    "    #print(type(score_fit),score_fit,type(coefficent),coefficent)\n",
    "    if coefficent[0]<-0.6 and score_fit>0.4:\n",
    "       # #open_trade=True\n",
    "         print(score_fit,coefficent[0])\n",
    "    #plt.plot()\n",
    "        \n",
    "        \n"
   ]
  },
  {
   "cell_type": "code",
   "execution_count": 586,
   "metadata": {},
   "outputs": [
    {
     "data": {
      "text/plain": [
       "[2, 3, 4, 5, 6, 7, 8, 9, 10, 11, 12, 13, 14, 15, 16, 17, 18, 19]"
      ]
     },
     "execution_count": 586,
     "metadata": {},
     "output_type": "execute_result"
    }
   ],
   "source": []
  },
  {
   "cell_type": "code",
   "execution_count": null,
   "metadata": {},
   "outputs": [],
   "source": []
  },
  {
   "cell_type": "code",
   "execution_count": null,
   "metadata": {},
   "outputs": [],
   "source": []
  },
  {
   "cell_type": "code",
   "execution_count": null,
   "metadata": {},
   "outputs": [],
   "source": [
    "from sklearn.model_selection import train_test_split\n",
    "X = df['date']\n",
    "y = df['close']\n",
    "X_train, X_test, y_train, y_test = train_test_split(X, y, test_size=0.33, random_state=42)"
   ]
  },
  {
   "cell_type": "code",
   "execution_count": null,
   "metadata": {},
   "outputs": [],
   "source": []
  },
  {
   "cell_type": "code",
   "execution_count": null,
   "metadata": {},
   "outputs": [],
   "source": []
  },
  {
   "cell_type": "code",
   "execution_count": null,
   "metadata": {},
   "outputs": [],
   "source": [
    "import random as rnd\n",
    "period=90\n",
    "minc=random_time=rnd.randint(0,len(df2.high.values-period))\n",
    "maxc=minc+period"
   ]
  },
  {
   "cell_type": "code",
   "execution_count": null,
   "metadata": {},
   "outputs": [],
   "source": []
  },
  {
   "cell_type": "code",
   "execution_count": null,
   "metadata": {},
   "outputs": [],
   "source": [
    "def higvsWA(dataframe,intercept_):\n",
    "    \" create intercept column df['y'] \"\n",
    "    y_line = []\n",
    "    for x in dataframe['close'].values:\n",
    "        y_value =  x*coefficent + intercept_\n",
    "        y_line.append(float(y_value))\n",
    "    dataframe['y'] = np.array(y_line) \n",
    "    return(dataframe)"
   ]
  },
  {
   "cell_type": "code",
   "execution_count": 421,
   "metadata": {},
   "outputs": [],
   "source": [
    "df2['y'] = np.array(y_line)    "
   ]
  },
  {
   "cell_type": "markdown",
   "metadata": {},
   "source": [
    "### Pedicted line: high vs weightedAverage"
   ]
  },
  {
   "cell_type": "code",
   "execution_count": 446,
   "metadata": {},
   "outputs": [
    {
     "data": {
      "text/plain": [
       "(2533, 1)"
      ]
     },
     "execution_count": 446,
     "metadata": {},
     "output_type": "execute_result"
    }
   ],
   "source": [
    "X_test.shape"
   ]
  },
  {
   "cell_type": "code",
   "execution_count": 515,
   "metadata": {},
   "outputs": [
    {
     "name": "stdout",
     "output_type": "stream",
     "text": [
      "weightedAverage\n",
      "high\n",
      "y\n"
     ]
    },
    {
     "data": {
      "image/png": "[encoded data removed]",
      "text/plain": [
       "<Figure size 432x288 with 1 Axes>"
      ]
     },
     "metadata": {
      "needs_background": "light"
     },
     "output_type": "display_data"
    }
   ],
   "source": [
    "def plot_lines(dfataframe,x_axis,*cols):\n",
    "    for col in cols:\n",
    "        print(col)\n",
    "        sns.lineplot(data=dfataframe[:200],x=x_axis,y=col)\n",
    "        \n",
    "plot_lines(df2[:200],\"date\",\"weightedAverage\",\"close\",\"y\")\n"
   ]
  },
  {
   "cell_type": "code",
   "execution_count": null,
   "metadata": {},
   "outputs": [],
   "source": []
  },
  {
   "cell_type": "code",
   "execution_count": null,
   "metadata": {},
   "outputs": [],
   "source": []
  },
  {
   "cell_type": "code",
   "execution_count": null,
   "metadata": {},
   "outputs": [],
   "source": []
  },
  {
   "cell_type": "code",
   "execution_count": null,
   "metadata": {},
   "outputs": [],
   "source": []
  },
  {
   "cell_type": "code",
   "execution_count": null,
   "metadata": {},
   "outputs": [],
   "source": []
  },
  {
   "cell_type": "code",
   "execution_count": null,
   "metadata": {},
   "outputs": [],
   "source": []
  },
  {
   "cell_type": "code",
   "execution_count": null,
   "metadata": {},
   "outputs": [],
   "source": []
  },
  {
   "cell_type": "markdown",
   "metadata": {},
   "source": [
    "# Model 1\n",
    "\n",
    "High vs weighted average 200\n",
    "\n",
    "- Upper band 90%\n",
    "- Lower band 10%\n"
   ]
  },
  {
   "cell_type": "code",
   "execution_count": 159,
   "metadata": {},
   "outputs": [],
   "source": []
  },
  {
   "cell_type": "code",
   "execution_count": 178,
   "metadata": {},
   "outputs": [],
   "source": []
  },
  {
   "cell_type": "code",
   "execution_count": 203,
   "metadata": {},
   "outputs": [],
   "source": []
  },
  {
   "cell_type": "code",
   "execution_count": 204,
   "metadata": {},
   "outputs": [
    {
     "data": {
      "text/plain": [
       "((5140,), (2533,), (5140,), (2533,))"
      ]
     },
     "execution_count": 204,
     "metadata": {},
     "output_type": "execute_result"
    }
   ],
   "source": [
    "X_train.shape, X_test.shape, y_train.shape, y_test.shape"
   ]
  },
  {
   "cell_type": "code",
   "execution_count": 222,
   "metadata": {},
   "outputs": [],
   "source": []
  },
  {
   "cell_type": "code",
   "execution_count": 223,
   "metadata": {},
   "outputs": [],
   "source": [
    "from sklearn.ensemble import GradientBoostingRegressor# Set lower and upper quantile\n",
    "LOWER_ALPHA = 0.1\n",
    "UPPER_ALPHA = 0.9# Each model has to be separate\n",
    "\n",
    "\n",
    "lower_model = GradientBoostingRegressor(loss=\"quantile\",                   \n",
    "                                        alpha=LOWER_ALPHA)\n",
    "# The mid model will use the default loss\n",
    "mid_model = GradientBoostingRegressor(loss=\"ls\")\n",
    "\n",
    "upper_model = GradientBoostingRegressor(loss=\"quantile\",\n",
    "                                        alpha=UPPER_ALPHA)"
   ]
  }
 ],
 "metadata": {
  "kernelspec": {
   "display_name": "Python 3",
   "language": "python",
   "name": "python3"
  },
  "language_info": {
   "codemirror_mode": {
    "name": "ipython",
    "version": 3
   },
   "file_extension": ".py",
   "mimetype": "text/x-python",
   "name": "python",
   "nbconvert_exporter": "python",
   "pygments_lexer": "ipython3",
   "version": "3.8.5"
  }
 },
 "nbformat": 4,
 "nbformat_minor": 4
}
